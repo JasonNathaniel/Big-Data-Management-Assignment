{
 "cells": [
  {
   "cell_type": "code",
   "execution_count": 27,
   "id": "c97df585",
   "metadata": {},
   "outputs": [],
   "source": [
    "# import statements\n",
    "from time import sleep\n",
    "from json import dumps\n",
    "from kafka import KafkaProducer\n",
    "import random\n",
    "import datetime as dt\n",
    "import pandas as pd\n",
    "import json\n",
    "\n",
    "\n",
    "# read the hotspot_TERRA_streaming.csv file\n",
    "hotspotTERRA = pd.read_csv(\"hotspot_TERRA_streaming.csv\")\n",
    "\n",
    "# change to json object \n",
    "result_list = hotspotTERRA.to_dict(orient = \"records\")"
   ]
  },
  {
   "cell_type": "code",
   "execution_count": 28,
   "id": "62231caa",
   "metadata": {},
   "outputs": [
    {
     "data": {
      "text/plain": [
       "{'latitude': -35.541,\n",
       " 'longitude': 143.311,\n",
       " 'confidence': 82,\n",
       " 'surface_temperature_celcius': 63}"
      ]
     },
     "execution_count": 28,
     "metadata": {},
     "output_type": "execute_result"
    }
   ],
   "source": [
    "# sample data\n",
    "result_list[1]"
   ]
  },
  {
   "cell_type": "code",
   "execution_count": 29,
   "id": "2585558c",
   "metadata": {},
   "outputs": [],
   "source": [
    "def publish_message(producer_instance, topic_name, key, data):\n",
    "    try:\n",
    "        key_bytes = bytes(key, encoding='utf-8')\n",
    "        producer_instance.send(topic_name, key=key_bytes, value=data)\n",
    "        producer_instance.flush()\n",
    "        print('Message published successfully. Data: ' + str(data))\n",
    "    except Exception as ex:\n",
    "        print('Exception in publishing message.')\n",
    "        print(str(ex))"
   ]
  },
  {
   "cell_type": "code",
   "execution_count": 30,
   "id": "2a2df754",
   "metadata": {},
   "outputs": [],
   "source": [
    "def connect_kafka_producer():\n",
    "    _producer = None\n",
    "    try:\n",
    "        _producer = KafkaProducer(bootstrap_servers=['localhost:9092'],\n",
    "                                  value_serializer=lambda x:dumps(x).encode('ascii'),\n",
    "                                  api_version=(0, 10))\n",
    "    except Exception as ex:\n",
    "        print('Exception while connecting Kafka.')\n",
    "        print(str(ex))\n",
    "    finally:\n",
    "        return _producer"
   ]
  },
  {
   "cell_type": "code",
   "execution_count": 31,
   "id": "d3b6e5a5",
   "metadata": {},
   "outputs": [
    {
     "name": "stdout",
     "output_type": "stream",
     "text": [
      "Publishing records..\n",
      "Message published successfully. Data: {'latitude': -37.9071, 'longitude': 143.538, 'confidence': 100, 'surface_temperature_celcius': 88, 'date': '31/12/2021', 'time': '04:48:00', 'producer': 3}\n",
      "Message published successfully. Data: {'latitude': -36.4142, 'longitude': 143.1077, 'confidence': 100, 'surface_temperature_celcius': 97, 'date': '31/12/2021', 'time': '09:36:00', 'producer': 3}\n",
      "Message published successfully. Data: {'latitude': -36.2829, 'longitude': 145.825, 'confidence': 100, 'surface_temperature_celcius': 115, 'date': '31/12/2021', 'time': '14:24:00', 'producer': 3}\n",
      "Message published successfully. Data: {'latitude': -36.4208, 'longitude': 145.5629, 'confidence': 75, 'surface_temperature_celcius': 48, 'date': '31/12/2021', 'time': '19:12:00', 'producer': 3}\n",
      "Message published successfully. Data: {'latitude': -37.4336, 'longitude': 147.0534, 'confidence': 60, 'surface_temperature_celcius': 51, 'date': '01/01/2022', 'time': '00:00:00', 'producer': 3}\n",
      "Message published successfully. Data: {'latitude': -37.4737, 'longitude': 145.6985, 'confidence': 67, 'surface_temperature_celcius': 43, 'date': '01/01/2022', 'time': '04:48:00', 'producer': 3}\n",
      "Message published successfully. Data: {'latitude': -37.69, 'longitude': 143.605, 'confidence': 97, 'surface_temperature_celcius': 80, 'date': '01/01/2022', 'time': '09:36:00', 'producer': 3}\n",
      "Message published successfully. Data: {'latitude': -37.7609, 'longitude': 143.1633, 'confidence': 94, 'surface_temperature_celcius': 74, 'date': '01/01/2022', 'time': '14:24:00', 'producer': 3}\n",
      "Message published successfully. Data: {'latitude': -37.094, 'longitude': 141.8857, 'confidence': 83, 'surface_temperature_celcius': 57, 'date': '01/01/2022', 'time': '19:12:00', 'producer': 3}\n",
      "Message published successfully. Data: {'latitude': -37.472, 'longitude': 148.119, 'confidence': 85, 'surface_temperature_celcius': 54, 'date': '02/01/2022', 'time': '00:00:00', 'producer': 3}\n",
      "Message published successfully. Data: {'latitude': -37.7635, 'longitude': 142.8181, 'confidence': 61, 'surface_temperature_celcius': 41, 'date': '02/01/2022', 'time': '04:48:00', 'producer': 3}\n",
      "Message published successfully. Data: {'latitude': -36.2257, 'longitude': 144.2904, 'confidence': 72, 'surface_temperature_celcius': 46, 'date': '02/01/2022', 'time': '09:36:00', 'producer': 3}\n",
      "Message published successfully. Data: {'latitude': -36.8395, 'longitude': 142.2188, 'confidence': 82, 'surface_temperature_celcius': 62, 'date': '02/01/2022', 'time': '14:24:00', 'producer': 3}\n",
      "Message published successfully. Data: {'latitude': -38.4398, 'longitude': 146.6093, 'confidence': 81, 'surface_temperature_celcius': 54, 'date': '02/01/2022', 'time': '19:12:00', 'producer': 3}\n",
      "Message published successfully. Data: {'latitude': -37.3723, 'longitude': 143.8406, 'confidence': 52, 'surface_temperature_celcius': 42, 'date': '03/01/2022', 'time': '00:00:00', 'producer': 3}\n",
      "Message published successfully. Data: {'latitude': -36.4324, 'longitude': 141.5582, 'confidence': 77, 'surface_temperature_celcius': 52, 'date': '03/01/2022', 'time': '04:48:00', 'producer': 3}\n",
      "Message published successfully. Data: {'latitude': -36.031, 'longitude': 145.6824, 'confidence': 91, 'surface_temperature_celcius': 69, 'date': '03/01/2022', 'time': '09:36:00', 'producer': 3}\n",
      "Message published successfully. Data: {'latitude': -38.0233, 'longitude': 146.5253, 'confidence': 94, 'surface_temperature_celcius': 103, 'date': '03/01/2022', 'time': '14:24:00', 'producer': 3}\n",
      "Message published successfully. Data: {'latitude': -36.2692, 'longitude': 141.0705, 'confidence': 58, 'surface_temperature_celcius': 40, 'date': '03/01/2022', 'time': '19:12:00', 'producer': 3}\n",
      "Message published successfully. Data: {'latitude': -36.241, 'longitude': 143.1229, 'confidence': 75, 'surface_temperature_celcius': 53, 'date': '04/01/2022', 'time': '00:00:00', 'producer': 3}\n",
      "Message published successfully. Data: {'latitude': -37.7697, 'longitude': 148.336, 'confidence': 81, 'surface_temperature_celcius': 57, 'date': '04/01/2022', 'time': '04:48:00', 'producer': 3}\n",
      "Message published successfully. Data: {'latitude': -37.8475, 'longitude': 147.2512, 'confidence': 76, 'surface_temperature_celcius': 50, 'date': '04/01/2022', 'time': '09:36:00', 'producer': 3}\n",
      "Message published successfully. Data: {'latitude': -36.4437, 'longitude': 143.5726, 'confidence': 64, 'surface_temperature_celcius': 42, 'date': '04/01/2022', 'time': '14:24:00', 'producer': 3}\n",
      "Message published successfully. Data: {'latitude': -37.465, 'longitude': 148.153, 'confidence': 68, 'surface_temperature_celcius': 63, 'date': '04/01/2022', 'time': '19:12:00', 'producer': 3}\n",
      "Message published successfully. Data: {'latitude': -37.4391, 'longitude': 143.0293, 'confidence': 66, 'surface_temperature_celcius': 43, 'date': '05/01/2022', 'time': '00:00:00', 'producer': 3}\n",
      "Message published successfully. Data: {'latitude': -36.8292, 'longitude': 142.1692, 'confidence': 84, 'surface_temperature_celcius': 58, 'date': '05/01/2022', 'time': '04:48:00', 'producer': 3}\n",
      "Message published successfully. Data: {'latitude': -37.8758, 'longitude': 145.8371, 'confidence': 78, 'surface_temperature_celcius': 52, 'date': '05/01/2022', 'time': '09:36:00', 'producer': 3}\n",
      "Message published successfully. Data: {'latitude': -36.9817, 'longitude': 143.5051, 'confidence': 100, 'surface_temperature_celcius': 113, 'date': '05/01/2022', 'time': '14:24:00', 'producer': 3}\n",
      "Message published successfully. Data: {'latitude': -36.765, 'longitude': 144.176, 'confidence': 74, 'surface_temperature_celcius': 47, 'date': '05/01/2022', 'time': '19:12:00', 'producer': 3}\n",
      "Message published successfully. Data: {'latitude': -36.4438, 'longitude': 145.8052, 'confidence': 71, 'surface_temperature_celcius': 46, 'date': '06/01/2022', 'time': '00:00:00', 'producer': 3}\n",
      "Message published successfully. Data: {'latitude': -37.665, 'longitude': 142.1339, 'confidence': 74, 'surface_temperature_celcius': 48, 'date': '06/01/2022', 'time': '04:48:00', 'producer': 3}\n",
      "Message published successfully. Data: {'latitude': -36.8261, 'longitude': 141.4747, 'confidence': 52, 'surface_temperature_celcius': 38, 'date': '06/01/2022', 'time': '09:36:00', 'producer': 3}\n",
      "Message published successfully. Data: {'latitude': -36.0313, 'longitude': 143.6296, 'confidence': 72, 'surface_temperature_celcius': 47, 'date': '06/01/2022', 'time': '14:24:00', 'producer': 3}\n",
      "Message published successfully. Data: {'latitude': -37.7767, 'longitude': 141.8127, 'confidence': 68, 'surface_temperature_celcius': 44, 'date': '06/01/2022', 'time': '19:12:00', 'producer': 3}\n",
      "Message published successfully. Data: {'latitude': -36.2455, 'longitude': 141.3205, 'confidence': 62, 'surface_temperature_celcius': 43, 'date': '07/01/2022', 'time': '00:00:00', 'producer': 3}\n",
      "Message published successfully. Data: {'latitude': -37.4671, 'longitude': 145.9962, 'confidence': 93, 'surface_temperature_celcius': 73, 'date': '07/01/2022', 'time': '04:48:00', 'producer': 3}\n",
      "Message published successfully. Data: {'latitude': -36.291, 'longitude': 146.159, 'confidence': 56, 'surface_temperature_celcius': 40, 'date': '07/01/2022', 'time': '09:36:00', 'producer': 3}\n",
      "Message published successfully. Data: {'latitude': -37.7931, 'longitude': 148.385, 'confidence': 64, 'surface_temperature_celcius': 58, 'date': '07/01/2022', 'time': '14:24:00', 'producer': 3}\n",
      "Message published successfully. Data: {'latitude': -36.7903, 'longitude': 141.618, 'confidence': 90, 'surface_temperature_celcius': 67, 'date': '07/01/2022', 'time': '19:12:00', 'producer': 3}\n",
      "Message published successfully. Data: {'latitude': -38.2093, 'longitude': 143.9237, 'confidence': 57, 'surface_temperature_celcius': 40, 'date': '08/01/2022', 'time': '00:00:00', 'producer': 3}\n",
      "Message published successfully. Data: {'latitude': -37.2063, 'longitude': 147.4713, 'confidence': 92, 'surface_temperature_celcius': 70, 'date': '08/01/2022', 'time': '04:48:00', 'producer': 3}\n",
      "Message published successfully. Data: {'latitude': -37.57, 'longitude': 148.034, 'confidence': 86, 'surface_temperature_celcius': 56, 'date': '08/01/2022', 'time': '09:36:00', 'producer': 3}\n",
      "Message published successfully. Data: {'latitude': -37.8011, 'longitude': 144.7343, 'confidence': 67, 'surface_temperature_celcius': 44, 'date': '08/01/2022', 'time': '14:24:00', 'producer': 3}\n"
     ]
    },
    {
     "name": "stdout",
     "output_type": "stream",
     "text": [
      "Message published successfully. Data: {'latitude': -36.3045, 'longitude': 141.0771, 'confidence': 74, 'surface_temperature_celcius': 48, 'date': '08/01/2022', 'time': '19:12:00', 'producer': 3}\n",
      "Message published successfully. Data: {'latitude': -37.3847, 'longitude': 142.8935, 'confidence': 100, 'surface_temperature_celcius': 88, 'date': '09/01/2022', 'time': '00:00:00', 'producer': 3}\n",
      "Message published successfully. Data: {'latitude': -36.8004, 'longitude': 142.4415, 'confidence': 66, 'surface_temperature_celcius': 52, 'date': '09/01/2022', 'time': '04:48:00', 'producer': 3}\n",
      "Message published successfully. Data: {'latitude': -36.275, 'longitude': 142.785, 'confidence': 72, 'surface_temperature_celcius': 45, 'date': '09/01/2022', 'time': '09:36:00', 'producer': 3}\n",
      "Message published successfully. Data: {'latitude': -36.0411, 'longitude': 141.7071, 'confidence': 69, 'surface_temperature_celcius': 44, 'date': '09/01/2022', 'time': '14:24:00', 'producer': 3}\n",
      "Message published successfully. Data: {'latitude': -37.527, 'longitude': 143.4752, 'confidence': 81, 'surface_temperature_celcius': 39, 'date': '09/01/2022', 'time': '19:12:00', 'producer': 3}\n",
      "Message published successfully. Data: {'latitude': -36.2726, 'longitude': 145.506, 'confidence': 77, 'surface_temperature_celcius': 50, 'date': '10/01/2022', 'time': '00:00:00', 'producer': 3}\n",
      "Message published successfully. Data: {'latitude': -36.3253, 'longitude': 144.1026, 'confidence': 72, 'surface_temperature_celcius': 47, 'date': '10/01/2022', 'time': '04:48:00', 'producer': 3}\n",
      "Message published successfully. Data: {'latitude': -36.8272, 'longitude': 142.2097, 'confidence': 84, 'surface_temperature_celcius': 57, 'date': '10/01/2022', 'time': '09:36:00', 'producer': 3}\n",
      "Message published successfully. Data: {'latitude': -37.3511, 'longitude': 149.4088, 'confidence': 61, 'surface_temperature_celcius': 46, 'date': '10/01/2022', 'time': '14:24:00', 'producer': 3}\n",
      "Message published successfully. Data: {'latitude': -36.0318, 'longitude': 145.7492, 'confidence': 73, 'surface_temperature_celcius': 47, 'date': '10/01/2022', 'time': '19:12:00', 'producer': 3}\n",
      "Message published successfully. Data: {'latitude': -37.9742, 'longitude': 141.1855, 'confidence': 78, 'surface_temperature_celcius': 51, 'date': '11/01/2022', 'time': '00:00:00', 'producer': 3}\n",
      "Message published successfully. Data: {'latitude': -36.851, 'longitude': 148.117, 'confidence': 78, 'surface_temperature_celcius': 46, 'date': '11/01/2022', 'time': '04:48:00', 'producer': 3}\n",
      "Message published successfully. Data: {'latitude': -37.379, 'longitude': 148.132, 'confidence': 62, 'surface_temperature_celcius': 78, 'date': '11/01/2022', 'time': '09:36:00', 'producer': 3}\n",
      "Message published successfully. Data: {'latitude': -36.1556, 'longitude': 141.5904, 'confidence': 89, 'surface_temperature_celcius': 65, 'date': '11/01/2022', 'time': '14:24:00', 'producer': 3}\n",
      "Message published successfully. Data: {'latitude': -36.6778, 'longitude': 141.7388, 'confidence': 76, 'surface_temperature_celcius': 49, 'date': '11/01/2022', 'time': '19:12:00', 'producer': 3}\n",
      "Message published successfully. Data: {'latitude': -37.295, 'longitude': 144.377, 'confidence': 75, 'surface_temperature_celcius': 46, 'date': '12/01/2022', 'time': '00:00:00', 'producer': 3}\n",
      "Message published successfully. Data: {'latitude': -37.444, 'longitude': 148.101, 'confidence': 73, 'surface_temperature_celcius': 66, 'date': '12/01/2022', 'time': '04:48:00', 'producer': 3}\n",
      "Message published successfully. Data: {'latitude': -37.8717, 'longitude': 143.2566, 'confidence': 66, 'surface_temperature_celcius': 43, 'date': '12/01/2022', 'time': '09:36:00', 'producer': 3}\n",
      "Message published successfully. Data: {'latitude': -37.2109, 'longitude': 142.7966, 'confidence': 74, 'surface_temperature_celcius': 52, 'date': '12/01/2022', 'time': '14:24:00', 'producer': 3}\n",
      "Message published successfully. Data: {'latitude': -37.7697, 'longitude': 148.336, 'confidence': 81, 'surface_temperature_celcius': 57, 'date': '12/01/2022', 'time': '19:12:00', 'producer': 3}\n",
      "Message published successfully. Data: {'latitude': -36.9887, 'longitude': 142.6515, 'confidence': 82, 'surface_temperature_celcius': 55, 'date': '13/01/2022', 'time': '00:00:00', 'producer': 3}\n",
      "Message published successfully. Data: {'latitude': -36.6299, 'longitude': 142.4234, 'confidence': 66, 'surface_temperature_celcius': 71, 'date': '13/01/2022', 'time': '04:48:00', 'producer': 3}\n",
      "Message published successfully. Data: {'latitude': -38.0219, 'longitude': 141.2238, 'confidence': 76, 'surface_temperature_celcius': 62, 'date': '13/01/2022', 'time': '09:36:00', 'producer': 3}\n",
      "Message published successfully. Data: {'latitude': -36.2341, 'longitude': 141.3188, 'confidence': 57, 'surface_temperature_celcius': 41, 'date': '13/01/2022', 'time': '14:24:00', 'producer': 3}\n",
      "Message published successfully. Data: {'latitude': -37.3158, 'longitude': 147.4986, 'confidence': 95, 'surface_temperature_celcius': 76, 'date': '13/01/2022', 'time': '19:12:00', 'producer': 3}\n",
      "Message published successfully. Data: {'latitude': -36.7217, 'longitude': 141.6378, 'confidence': 83, 'surface_temperature_celcius': 56, 'date': '14/01/2022', 'time': '00:00:00', 'producer': 3}\n",
      "Message published successfully. Data: {'latitude': -37.987, 'longitude': 144.005, 'confidence': 50, 'surface_temperature_celcius': 38, 'date': '14/01/2022', 'time': '04:48:00', 'producer': 3}\n",
      "Message published successfully. Data: {'latitude': -37.9378, 'longitude': 144.3115, 'confidence': 87, 'surface_temperature_celcius': 62, 'date': '14/01/2022', 'time': '09:36:00', 'producer': 3}\n",
      "Message published successfully. Data: {'latitude': -37.3704, 'longitude': 145.8942, 'confidence': 96, 'surface_temperature_celcius': 78, 'date': '14/01/2022', 'time': '14:24:00', 'producer': 3}\n",
      "Message published successfully. Data: {'latitude': -36.4925, 'longitude': 142.2657, 'confidence': 74, 'surface_temperature_celcius': 48, 'date': '14/01/2022', 'time': '19:12:00', 'producer': 3}\n",
      "Message published successfully. Data: {'latitude': -37.437, 'longitude': 148.104, 'confidence': 99, 'surface_temperature_celcius': 61, 'date': '15/01/2022', 'time': '00:00:00', 'producer': 3}\n",
      "Message published successfully. Data: {'latitude': -38.075, 'longitude': 143.76, 'confidence': 72, 'surface_temperature_celcius': 46, 'date': '15/01/2022', 'time': '04:48:00', 'producer': 3}\n",
      "Message published successfully. Data: {'latitude': -38.3557, 'longitude': 147.0372, 'confidence': 78, 'surface_temperature_celcius': 52, 'date': '15/01/2022', 'time': '09:36:00', 'producer': 3}\n",
      "Message published successfully. Data: {'latitude': -37.805, 'longitude': 142.8233, 'confidence': 82, 'surface_temperature_celcius': 56, 'date': '15/01/2022', 'time': '14:24:00', 'producer': 3}\n",
      "Message published successfully. Data: {'latitude': -34.9057, 'longitude': 142.0623, 'confidence': 68, 'surface_temperature_celcius': 51, 'date': '15/01/2022', 'time': '19:12:00', 'producer': 3}\n",
      "Message published successfully. Data: {'latitude': -36.4439, 'longitude': 145.8846, 'confidence': 56, 'surface_temperature_celcius': 39, 'date': '16/01/2022', 'time': '00:00:00', 'producer': 3}\n",
      "Message published successfully. Data: {'latitude': -37.658, 'longitude': 149.339, 'confidence': 78, 'surface_temperature_celcius': 36, 'date': '16/01/2022', 'time': '04:48:00', 'producer': 3}\n",
      "Message published successfully. Data: {'latitude': -36.2779, 'longitude': 145.7794, 'confidence': 72, 'surface_temperature_celcius': 47, 'date': '16/01/2022', 'time': '09:36:00', 'producer': 3}\n",
      "Message published successfully. Data: {'latitude': -36.3164, 'longitude': 141.1475, 'confidence': 62, 'surface_temperature_celcius': 41, 'date': '16/01/2022', 'time': '14:24:00', 'producer': 3}\n",
      "Message published successfully. Data: {'latitude': -36.334, 'longitude': 144.0309, 'confidence': 62, 'surface_temperature_celcius': 41, 'date': '16/01/2022', 'time': '19:12:00', 'producer': 3}\n",
      "Message published successfully. Data: {'latitude': -36.608, 'longitude': 142.7127, 'confidence': 84, 'surface_temperature_celcius': 57, 'date': '17/01/2022', 'time': '00:00:00', 'producer': 3}\n",
      "Message published successfully. Data: {'latitude': -36.8272, 'longitude': 142.2097, 'confidence': 84, 'surface_temperature_celcius': 57, 'date': '17/01/2022', 'time': '04:48:00', 'producer': 3}\n"
     ]
    },
    {
     "name": "stdout",
     "output_type": "stream",
     "text": [
      "Message published successfully. Data: {'latitude': -36.6952, 'longitude': 144.7228, 'confidence': 84, 'surface_temperature_celcius': 57, 'date': '17/01/2022', 'time': '09:36:00', 'producer': 3}\n",
      "Message published successfully. Data: {'latitude': -37.3466, 'longitude': 143.123, 'confidence': 66, 'surface_temperature_celcius': 43, 'date': '17/01/2022', 'time': '14:24:00', 'producer': 3}\n",
      "Message published successfully. Data: {'latitude': -37.8254, 'longitude': 143.3904, 'confidence': 62, 'surface_temperature_celcius': 43, 'date': '17/01/2022', 'time': '19:12:00', 'producer': 3}\n",
      "Message published successfully. Data: {'latitude': -38.0505, 'longitude': 142.4791, 'confidence': 57, 'surface_temperature_celcius': 40, 'date': '18/01/2022', 'time': '00:00:00', 'producer': 3}\n",
      "Message published successfully. Data: {'latitude': -37.8701, 'longitude': 142.8066, 'confidence': 78, 'surface_temperature_celcius': 51, 'date': '18/01/2022', 'time': '04:48:00', 'producer': 3}\n",
      "Message published successfully. Data: {'latitude': -38.0398, 'longitude': 142.6159, 'confidence': 87, 'surface_temperature_celcius': 62, 'date': '18/01/2022', 'time': '09:36:00', 'producer': 3}\n",
      "Message published successfully. Data: {'latitude': -36.8022, 'longitude': 145.2616, 'confidence': 74, 'surface_temperature_celcius': 48, 'date': '18/01/2022', 'time': '14:24:00', 'producer': 3}\n",
      "Message published successfully. Data: {'latitude': -37.6629, 'longitude': 143.1587, 'confidence': 74, 'surface_temperature_celcius': 48, 'date': '18/01/2022', 'time': '19:12:00', 'producer': 3}\n",
      "Message published successfully. Data: {'latitude': -36.3168, 'longitude': 145.7285, 'confidence': 100, 'surface_temperature_celcius': 103, 'date': '19/01/2022', 'time': '00:00:00', 'producer': 3}\n",
      "Message published successfully. Data: {'latitude': -36.9748, 'longitude': 143.9369, 'confidence': 55, 'surface_temperature_celcius': 39, 'date': '19/01/2022', 'time': '04:48:00', 'producer': 3}\n",
      "Message published successfully. Data: {'latitude': -36.7101, 'longitude': 142.3865, 'confidence': 90, 'surface_temperature_celcius': 67, 'date': '19/01/2022', 'time': '09:36:00', 'producer': 3}\n",
      "Message published successfully. Data: {'latitude': -36.4437, 'longitude': 143.5726, 'confidence': 64, 'surface_temperature_celcius': 42, 'date': '19/01/2022', 'time': '14:24:00', 'producer': 3}\n",
      "Message published successfully. Data: {'latitude': -37.5728, 'longitude': 142.6348, 'confidence': 100, 'surface_temperature_celcius': 98, 'date': '19/01/2022', 'time': '19:12:00', 'producer': 3}\n",
      "Message published successfully. Data: {'latitude': -36.8202, 'longitude': 141.802, 'confidence': 80, 'surface_temperature_celcius': 54, 'date': '20/01/2022', 'time': '00:00:00', 'producer': 3}\n",
      "Message published successfully. Data: {'latitude': -35.4619, 'longitude': 143.5251, 'confidence': 58, 'surface_temperature_celcius': 40, 'date': '20/01/2022', 'time': '04:48:00', 'producer': 3}\n",
      "Message published successfully. Data: {'latitude': -36.1534, 'longitude': 141.5948, 'confidence': 88, 'surface_temperature_celcius': 64, 'date': '20/01/2022', 'time': '09:36:00', 'producer': 3}\n",
      "Message published successfully. Data: {'latitude': -36.4312, 'longitude': 141.2064, 'confidence': 95, 'surface_temperature_celcius': 76, 'date': '20/01/2022', 'time': '14:24:00', 'producer': 3}\n",
      "Message published successfully. Data: {'latitude': -37.6806, 'longitude': 143.2676, 'confidence': 59, 'surface_temperature_celcius': 51, 'date': '20/01/2022', 'time': '19:12:00', 'producer': 3}\n",
      "Message published successfully. Data: {'latitude': -38.0505, 'longitude': 142.4791, 'confidence': 57, 'surface_temperature_celcius': 40, 'date': '21/01/2022', 'time': '00:00:00', 'producer': 3}\n",
      "Message published successfully. Data: {'latitude': -37.7772, 'longitude': 143.1222, 'confidence': 70, 'surface_temperature_celcius': 45, 'date': '21/01/2022', 'time': '04:48:00', 'producer': 3}\n",
      "Message published successfully. Data: {'latitude': -36.9664, 'longitude': 142.1561, 'confidence': 81, 'surface_temperature_celcius': 55, 'date': '21/01/2022', 'time': '09:36:00', 'producer': 3}\n"
     ]
    },
    {
     "ename": "KeyboardInterrupt",
     "evalue": "",
     "output_type": "error",
     "traceback": [
      "\u001b[0;31m---------------------------------------------------------------------------\u001b[0m",
      "\u001b[0;31mKeyboardInterrupt\u001b[0m                         Traceback (most recent call last)",
      "\u001b[0;32m<ipython-input-31-2ae6ae38e0eb>\u001b[0m in \u001b[0;36m<module>\u001b[0;34m\u001b[0m\n\u001b[1;32m     28\u001b[0m         \u001b[0;31m# publish data every 2 seconds\u001b[0m\u001b[0;34m\u001b[0m\u001b[0;34m\u001b[0m\u001b[0;34m\u001b[0m\u001b[0m\n\u001b[1;32m     29\u001b[0m         \u001b[0mpublish_message\u001b[0m\u001b[0;34m(\u001b[0m\u001b[0mproducer\u001b[0m\u001b[0;34m,\u001b[0m \u001b[0mtopic\u001b[0m\u001b[0;34m,\u001b[0m \u001b[0;34m'hotspotTERRA'\u001b[0m\u001b[0;34m,\u001b[0m \u001b[0mdata\u001b[0m\u001b[0;34m)\u001b[0m\u001b[0;34m\u001b[0m\u001b[0;34m\u001b[0m\u001b[0m\n\u001b[0;32m---> 30\u001b[0;31m         \u001b[0msleep\u001b[0m\u001b[0;34m(\u001b[0m\u001b[0;36m2\u001b[0m\u001b[0;34m)\u001b[0m\u001b[0;34m\u001b[0m\u001b[0;34m\u001b[0m\u001b[0m\n\u001b[0m",
      "\u001b[0;31mKeyboardInterrupt\u001b[0m: "
     ]
    }
   ],
   "source": [
    "if __name__ == '__main__':\n",
    "   \n",
    "    topic = 'partB'\n",
    "    \n",
    "    # latest date from climate data in Part A Task 2. Change to datetime type\n",
    "    latestDate_str = \"2021-12-31\"\n",
    "    latestDate = dt.datetime.strptime(latestDate_str, \"%Y-%m-%d\")\n",
    "    \n",
    "    # get kafka producer instance\n",
    "    print('Publishing records..')\n",
    "    producer = connect_kafka_producer()\n",
    "    \n",
    "    while True: \n",
    "        \n",
    "        # get index of data from result_list randomly\n",
    "        index = random.randrange(0,len(result_list))\n",
    "        # get the data fron the list\n",
    "        data = result_list[index]\n",
    "        \n",
    "        # append 24/5 hours from the latest date and store date and time into the selected data\n",
    "        latestDate = latestDate + dt.timedelta(seconds=24*60*60/5)\n",
    "        data[\"date\"] = latestDate.strftime(\"%d/%m/%Y\")\n",
    "        data[\"time\"] = latestDate.strftime(\"%X\")\n",
    "        \n",
    "        # add producer information\n",
    "        data[\"producer\"] = 3\n",
    "        \n",
    "        # publish data every 2 seconds\n",
    "        publish_message(producer, topic, 'hotspotTERRA', data)\n",
    "        sleep(2)"
   ]
  },
  {
   "cell_type": "code",
   "execution_count": null,
   "id": "cb050e1a",
   "metadata": {},
   "outputs": [],
   "source": []
  }
 ],
 "metadata": {
  "kernelspec": {
   "display_name": "Python 3",
   "language": "python",
   "name": "python3"
  },
  "language_info": {
   "codemirror_mode": {
    "name": "ipython",
    "version": 3
   },
   "file_extension": ".py",
   "mimetype": "text/x-python",
   "name": "python",
   "nbconvert_exporter": "python",
   "pygments_lexer": "ipython3",
   "version": "3.8.10"
  }
 },
 "nbformat": 4,
 "nbformat_minor": 5
}
