{
 "cells": [
  {
   "cell_type": "code",
   "execution_count": 80,
   "id": "cea3e1a0",
   "metadata": {},
   "outputs": [],
   "source": [
    "# import statements\n",
    "from time import sleep\n",
    "from json import dumps\n",
    "from kafka import KafkaProducer\n",
    "import random\n",
    "import datetime as dt\n",
    "import pandas as pd\n",
    "import json\n",
    "\n",
    "# read the climate_streaming.csv file\n",
    "climateData = pd.read_csv(\"climate_streaming.csv\")\n",
    "\n",
    "# change to json object \n",
    "result_list = climateData.to_dict(orient = \"records\")\n"
   ]
  },
  {
   "cell_type": "code",
   "execution_count": 81,
   "id": "07b5d2b8",
   "metadata": {},
   "outputs": [
    {
     "data": {
      "text/plain": [
       "{'latitude': -38.038000000000004,\n",
       " 'longitude': 142.986,\n",
       " 'air_temperature_celcius': 15,\n",
       " 'relative_humidity': 50.7,\n",
       " 'windspeed_knots': 9.2,\n",
       " 'max_wind_speed': 13.0,\n",
       " 'precipitation ': ' 0.02G',\n",
       " 'GHI_w/m2': 128}"
      ]
     },
     "execution_count": 81,
     "metadata": {},
     "output_type": "execute_result"
    }
   ],
   "source": [
    "# sample data\n",
    "result_list[1]"
   ]
  },
  {
   "cell_type": "code",
   "execution_count": 82,
   "id": "7a5fad56",
   "metadata": {},
   "outputs": [],
   "source": [
    "def publish_message(producer_instance, topic_name, key, data):\n",
    "    try:\n",
    "        key_bytes = bytes(key, encoding='utf-8')\n",
    "        producer_instance.send(topic_name, key=key_bytes, value=data)\n",
    "        producer_instance.flush()\n",
    "        print('Message published successfully. Data: ' + str(data))\n",
    "    except Exception as ex:\n",
    "        print('Exception in publishing message.')\n",
    "        print(str(ex))"
   ]
  },
  {
   "cell_type": "code",
   "execution_count": 83,
   "id": "6466e5ff",
   "metadata": {},
   "outputs": [],
   "source": [
    "def connect_kafka_producer():\n",
    "    _producer = None\n",
    "    try:\n",
    "        _producer = KafkaProducer(bootstrap_servers=['localhost:9092'],\n",
    "                                  value_serializer=lambda x:dumps(x).encode('ascii'),\n",
    "                                  api_version=(0, 10))\n",
    "    except Exception as ex:\n",
    "        print('Exception while connecting Kafka.')\n",
    "        print(str(ex))\n",
    "    finally:\n",
    "        return _producer"
   ]
  },
  {
   "cell_type": "code",
   "execution_count": 84,
   "id": "1151094a",
   "metadata": {},
   "outputs": [
    {
     "name": "stdout",
     "output_type": "stream",
     "text": [
      "Publishing records..\n",
      "Message published successfully. Data: {'latitude': -36.827, 'longitude': 142.5446, 'air_temperature_celcius': 8, 'relative_humidity': 39.3, 'windspeed_knots': 4.7, 'max_wind_speed': 13.0, 'precipitation ': ' 0.02G', 'GHI_w/m2': 75, 'date': '01/01/2022', 'time': '04:18:50', 'station': '948700', 'producer': 1}\n",
      "Message published successfully. Data: {'latitude': -37.459, 'longitude': 148.092, 'air_temperature_celcius': 13, 'relative_humidity': 48.5, 'windspeed_knots': 7.1, 'max_wind_speed': 15.9, 'precipitation ': ' 0.00G', 'GHI_w/m2': 113, 'date': '02/01/2022', 'time': '04:19:00', 'station': '948700', 'producer': 1}\n",
      "Message published successfully. Data: {'latitude': -36.9194, 'longitude': 143.6131, 'air_temperature_celcius': 19, 'relative_humidity': 50.3, 'windspeed_knots': 7.7, 'max_wind_speed': 11.1, 'precipitation ': ' 0.00I', 'GHI_w/m2': 162, 'date': '03/01/2022', 'time': '04:19:10', 'station': '948700', 'producer': 1}\n",
      "Message published successfully. Data: {'latitude': -36.0459, 'longitude': 143.8907, 'air_temperature_celcius': 21, 'relative_humidity': 58.7, 'windspeed_knots': 7.8, 'max_wind_speed': 13.0, 'precipitation ': ' 0.00I', 'GHI_w/m2': 167, 'date': '04/01/2022', 'time': '04:19:20', 'station': '948700', 'producer': 1}\n",
      "Message published successfully. Data: {'latitude': -37.606, 'longitude': 149.312, 'air_temperature_celcius': 16, 'relative_humidity': 51.0, 'windspeed_knots': 6.0, 'max_wind_speed': 13.0, 'precipitation ': ' 0.00G', 'GHI_w/m2': 136, 'date': '05/01/2022', 'time': '04:19:30', 'station': '948700', 'producer': 1}\n",
      "Message published successfully. Data: {'latitude': -36.2693, 'longitude': 143.1768, 'air_temperature_celcius': 12, 'relative_humidity': 46.6, 'windspeed_knots': 6.7, 'max_wind_speed': 14.0, 'precipitation ': ' 0.00G', 'GHI_w/m2': 106, 'date': '06/01/2022', 'time': '04:19:40', 'station': '948700', 'producer': 1}\n",
      "Message published successfully. Data: {'latitude': -35.961, 'longitude': 141.089, 'air_temperature_celcius': 5, 'relative_humidity': 34.9, 'windspeed_knots': 4.3, 'max_wind_speed': 11.1, 'precipitation ': ' 0.00A', 'GHI_w/m2': 48, 'date': '07/01/2022', 'time': '04:19:50', 'station': '948700', 'producer': 1}\n",
      "Message published successfully. Data: {'latitude': -36.1704, 'longitude': 144.0433, 'air_temperature_celcius': 11, 'relative_humidity': 41.7, 'windspeed_knots': 8.7, 'max_wind_speed': 19.0, 'precipitation ': ' 0.00I', 'GHI_w/m2': 101, 'date': '08/01/2022', 'time': '04:20:00', 'station': '948700', 'producer': 1}\n",
      "Message published successfully. Data: {'latitude': -35.323, 'longitude': 143.509, 'air_temperature_celcius': 15, 'relative_humidity': 49.3, 'windspeed_knots': 3.6, 'max_wind_speed': 7.0, 'precipitation ': ' 0.00I', 'GHI_w/m2': 129, 'date': '09/01/2022', 'time': '04:20:10', 'station': '948700', 'producer': 1}\n",
      "Message published successfully. Data: {'latitude': -35.779, 'longitude': 143.1057, 'air_temperature_celcius': 18, 'relative_humidity': 53.7, 'windspeed_knots': 9.0, 'max_wind_speed': 13.0, 'precipitation ': ' 0.00I', 'GHI_w/m2': 150, 'date': '10/01/2022', 'time': '04:20:20', 'station': '948700', 'producer': 1}\n",
      "Message published successfully. Data: {'latitude': -37.086999999999996, 'longitude': 145.37, 'air_temperature_celcius': 9, 'relative_humidity': 40.1, 'windspeed_knots': 7.5, 'max_wind_speed': 11.1, 'precipitation ': ' 0.00I', 'GHI_w/m2': 84, 'date': '11/01/2022', 'time': '04:20:30', 'station': '948700', 'producer': 1}\n",
      "Message published successfully. Data: {'latitude': -36.8867, 'longitude': 142.1873, 'air_temperature_celcius': 14, 'relative_humidity': 39.3, 'windspeed_knots': 17.7, 'max_wind_speed': 30.9, 'precipitation ': ' 0.01G', 'GHI_w/m2': 131, 'date': '12/01/2022', 'time': '04:20:40', 'station': '948700', 'producer': 1}\n",
      "Message published successfully. Data: {'latitude': -37.583, 'longitude': 149.316, 'air_temperature_celcius': 25, 'relative_humidity': 58.3, 'windspeed_knots': 12.2, 'max_wind_speed': 22.0, 'precipitation ': ' 0.04G', 'GHI_w/m2': 199, 'date': '13/01/2022', 'time': '04:20:50', 'station': '948700', 'producer': 1}\n",
      "Message published successfully. Data: {'latitude': -36.4125, 'longitude': 143.1189, 'air_temperature_celcius': 12, 'relative_humidity': 47.9, 'windspeed_knots': 6.7, 'max_wind_speed': 11.1, 'precipitation ': ' 0.00G', 'GHI_w/m2': 105, 'date': '14/01/2022', 'time': '04:21:00', 'station': '948700', 'producer': 1}\n",
      "Message published successfully. Data: {'latitude': -36.4125, 'longitude': 143.1189, 'air_temperature_celcius': 12, 'relative_humidity': 47.9, 'windspeed_knots': 6.7, 'max_wind_speed': 11.1, 'precipitation ': ' 0.00G', 'GHI_w/m2': 105, 'date': '15/01/2022', 'time': '04:21:10', 'station': '948700', 'producer': 1}\n",
      "Message published successfully. Data: {'latitude': -37.6008, 'longitude': 143.0558, 'air_temperature_celcius': 15, 'relative_humidity': 44.8, 'windspeed_knots': 8.3, 'max_wind_speed': 19.0, 'precipitation ': ' 0.00I', 'GHI_w/m2': 134, 'date': '16/01/2022', 'time': '04:21:20', 'station': '948700', 'producer': 1}\n",
      "Message published successfully. Data: {'latitude': -37.538000000000004, 'longitude': 148.895, 'air_temperature_celcius': 6, 'relative_humidity': 37.1, 'windspeed_knots': 5.8, 'max_wind_speed': 9.9, 'precipitation ': ' 0.00I', 'GHI_w/m2': 57, 'date': '17/01/2022', 'time': '04:21:30', 'station': '948700', 'producer': 1}\n",
      "Message published successfully. Data: {'latitude': -36.4125, 'longitude': 143.1189, 'air_temperature_celcius': 12, 'relative_humidity': 47.9, 'windspeed_knots': 6.7, 'max_wind_speed': 11.1, 'precipitation ': ' 0.00G', 'GHI_w/m2': 105, 'date': '18/01/2022', 'time': '04:21:40', 'station': '948700', 'producer': 1}\n",
      "Message published successfully. Data: {'latitude': -37.363, 'longitude': 148.06, 'air_temperature_celcius': 11, 'relative_humidity': 35.3, 'windspeed_knots': 18.2, 'max_wind_speed': 25.1, 'precipitation ': ' 0.00I', 'GHI_w/m2': 106, 'date': '19/01/2022', 'time': '04:21:50', 'station': '948700', 'producer': 1}\n",
      "Message published successfully. Data: {'latitude': -37.425, 'longitude': 148.107, 'air_temperature_celcius': 15, 'relative_humidity': 41.2, 'windspeed_knots': 13.8, 'max_wind_speed': 16.9, 'precipitation ': ' 0.00G', 'GHI_w/m2': 138, 'date': '20/01/2022', 'time': '04:22:00', 'station': '948700', 'producer': 1}\n",
      "Message published successfully. Data: {'latitude': -35.961999999999996, 'longitude': 143.791, 'air_temperature_celcius': 14, 'relative_humidity': 49.9, 'windspeed_knots': 6.8, 'max_wind_speed': 15.9, 'precipitation ': ' 0.00G', 'GHI_w/m2': 120, 'date': '21/01/2022', 'time': '04:22:10', 'station': '948700', 'producer': 1}\n",
      "Message published successfully. Data: {'latitude': -36.765, 'longitude': 144.17600000000002, 'air_temperature_celcius': 16, 'relative_humidity': 54.9, 'windspeed_knots': 5.9, 'max_wind_speed': 9.9, 'precipitation ': ' 0.00I', 'GHI_w/m2': 132, 'date': '22/01/2022', 'time': '04:22:20', 'station': '948700', 'producer': 1}\n",
      "Message published successfully. Data: {'latitude': -36.941, 'longitude': 143.268, 'air_temperature_celcius': 23, 'relative_humidity': 63.8, 'windspeed_knots': 7.1, 'max_wind_speed': 15.9, 'precipitation ': ' 0.08G', 'GHI_w/m2': 174, 'date': '23/01/2022', 'time': '04:22:30', 'station': '948700', 'producer': 1}\n"
     ]
    },
    {
     "ename": "KeyboardInterrupt",
     "evalue": "",
     "output_type": "error",
     "traceback": [
      "\u001b[0;31m---------------------------------------------------------------------------\u001b[0m",
      "\u001b[0;31mKeyboardInterrupt\u001b[0m                         Traceback (most recent call last)",
      "\u001b[0;32m<ipython-input-84-d73179dcc475>\u001b[0m in \u001b[0;36m<module>\u001b[0;34m\u001b[0m\n\u001b[1;32m     30\u001b[0m         \u001b[0;31m# publish data every 10 seconds\u001b[0m\u001b[0;34m\u001b[0m\u001b[0;34m\u001b[0m\u001b[0;34m\u001b[0m\u001b[0m\n\u001b[1;32m     31\u001b[0m         \u001b[0mpublish_message\u001b[0m\u001b[0;34m(\u001b[0m\u001b[0mproducer\u001b[0m\u001b[0;34m,\u001b[0m \u001b[0mtopic\u001b[0m\u001b[0;34m,\u001b[0m \u001b[0;34m'Climate'\u001b[0m\u001b[0;34m,\u001b[0m \u001b[0mdata\u001b[0m\u001b[0;34m)\u001b[0m\u001b[0;34m\u001b[0m\u001b[0;34m\u001b[0m\u001b[0m\n\u001b[0;32m---> 32\u001b[0;31m         \u001b[0msleep\u001b[0m\u001b[0;34m(\u001b[0m\u001b[0;36m10\u001b[0m\u001b[0;34m)\u001b[0m\u001b[0;34m\u001b[0m\u001b[0;34m\u001b[0m\u001b[0m\n\u001b[0m\u001b[1;32m     33\u001b[0m \u001b[0;34m\u001b[0m\u001b[0m\n\u001b[1;32m     34\u001b[0m \u001b[0;34m\u001b[0m\u001b[0m\n",
      "\u001b[0;31mKeyboardInterrupt\u001b[0m: "
     ]
    }
   ],
   "source": [
    "if __name__ == '__main__':\n",
    "   \n",
    "    topic = 'partB'\n",
    "    \n",
    "    # latest date from climate data in Part A Task 2. Change to datetime type\n",
    "    latestDate_str = \"2021-12-31\"\n",
    "    latestDate = dt.datetime.strptime(latestDate_str, \"%Y-%m-%d\")\n",
    "    \n",
    "    # get kafka producer instance\n",
    "    print('Publishing records..')\n",
    "    producer = connect_kafka_producer()\n",
    "    \n",
    "    while True:\n",
    "    \n",
    "        # get index of data from result_list randomly\n",
    "        index = random.randrange(0,len(result_list))\n",
    "        # get the data fron the list\n",
    "        data = result_list[index]\n",
    "        \n",
    "        # append 1 day from the latest date and store date and time into the selected data\n",
    "        latestDate = latestDate + dt.timedelta(days=1)\n",
    "        data[\"date\"] = latestDate.strftime(\"%d/%m/%Y\")\n",
    "        data[\"time\"] = dt.datetime.now().strftime(\"%X\")\n",
    "        \n",
    "        # add station key value to the data \n",
    "        data[\"station\"] = \"948700\"\n",
    "        # add producer information \n",
    "        data[\"producer\"] = 1\n",
    "        \n",
    "        # publish data every 10 seconds\n",
    "        publish_message(producer, topic, 'Climate', data)\n",
    "        sleep(10)\n",
    "        \n",
    "    "
   ]
  },
  {
   "cell_type": "code",
   "execution_count": null,
   "id": "f9de5836",
   "metadata": {},
   "outputs": [],
   "source": []
  }
 ],
 "metadata": {
  "kernelspec": {
   "display_name": "Python 3 (ipykernel)",
   "language": "python",
   "name": "python3"
  },
  "language_info": {
   "codemirror_mode": {
    "name": "ipython",
    "version": 3
   },
   "file_extension": ".py",
   "mimetype": "text/x-python",
   "name": "python",
   "nbconvert_exporter": "python",
   "pygments_lexer": "ipython3",
   "version": "3.8.10"
  }
 },
 "nbformat": 4,
 "nbformat_minor": 5
}
