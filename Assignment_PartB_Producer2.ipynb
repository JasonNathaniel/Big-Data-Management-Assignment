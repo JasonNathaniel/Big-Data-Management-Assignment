{
 "cells": [
  {
   "cell_type": "code",
   "execution_count": 30,
   "id": "767cbbdc",
   "metadata": {},
   "outputs": [],
   "source": [
    "# import statements\n",
    "from time import sleep\n",
    "from json import dumps\n",
    "from kafka import KafkaProducer\n",
    "import random\n",
    "import datetime as dt\n",
    "import pandas as pd\n",
    "import json\n",
    "\n",
    "\n",
    "# read the hotspot_AQUA_streaming.csv file\n",
    "hotspotAQUA = pd.read_csv(\"hotspot_AQUA_streaming.csv\")\n",
    "\n",
    "# change to json object \n",
    "result_list = hotspotAQUA.to_dict(orient = \"records\")"
   ]
  },
  {
   "cell_type": "code",
   "execution_count": 31,
   "id": "9c7f46dc",
   "metadata": {},
   "outputs": [
    {
     "data": {
      "text/plain": [
       "{'latitude': -38.038,\n",
       " 'longitude': 142.986,\n",
       " 'confidence': 65,\n",
       " 'surface_temperature_celcius': 40}"
      ]
     },
     "execution_count": 31,
     "metadata": {},
     "output_type": "execute_result"
    }
   ],
   "source": [
    "# sample data \n",
    "result_list[1]"
   ]
  },
  {
   "cell_type": "code",
   "execution_count": 32,
   "id": "f78dfa85",
   "metadata": {},
   "outputs": [],
   "source": [
    "def publish_message(producer_instance, topic_name, key, data):\n",
    "    try:\n",
    "        key_bytes = bytes(key, encoding='utf-8')\n",
    "        producer_instance.send(topic_name, key=key_bytes, value=data)\n",
    "        producer_instance.flush()\n",
    "        print('Message published successfully. Data: ' + str(data))\n",
    "    except Exception as ex:\n",
    "        print('Exception in publishing message.')\n",
    "        print(str(ex))"
   ]
  },
  {
   "cell_type": "code",
   "execution_count": 33,
   "id": "9637d786",
   "metadata": {},
   "outputs": [],
   "source": [
    "def connect_kafka_producer():\n",
    "    _producer = None\n",
    "    try:\n",
    "        _producer = KafkaProducer(bootstrap_servers=['localhost:9092'],\n",
    "                                  value_serializer=lambda x:dumps(x).encode('ascii'),\n",
    "                                  api_version=(0, 10))\n",
    "    except Exception as ex:\n",
    "        print('Exception while connecting Kafka.')\n",
    "        print(str(ex))\n",
    "    finally:\n",
    "        return _producer"
   ]
  },
  {
   "cell_type": "code",
   "execution_count": 34,
   "id": "9770d6d2",
   "metadata": {},
   "outputs": [
    {
     "name": "stdout",
     "output_type": "stream",
     "text": [
      "Publishing records..\n",
      "Message published successfully. Data: {'latitude': -37.1248, 'longitude': 141.8795, 'confidence': 71, 'surface_temperature_celcius': 52, 'date': '31/12/2021', 'time': '04:48:00', 'producer': 2}\n",
      "Message published successfully. Data: {'latitude': -35.962, 'longitude': 143.791, 'confidence': 76, 'surface_temperature_celcius': 42, 'date': '31/12/2021', 'time': '09:36:00', 'producer': 2}\n",
      "Message published successfully. Data: {'latitude': -36.7308, 'longitude': 144.0007, 'confidence': 80, 'surface_temperature_celcius': 54, 'date': '31/12/2021', 'time': '14:24:00', 'producer': 2}\n",
      "Message published successfully. Data: {'latitude': -37.0135, 'longitude': 143.5822, 'confidence': 69, 'surface_temperature_celcius': 44, 'date': '31/12/2021', 'time': '19:12:00', 'producer': 2}\n",
      "Message published successfully. Data: {'latitude': -37.7943, 'longitude': 143.0545, 'confidence': 70, 'surface_temperature_celcius': 45, 'date': '01/01/2022', 'time': '00:00:00', 'producer': 2}\n",
      "Message published successfully. Data: {'latitude': -37.8343, 'longitude': 143.6581, 'confidence': 72, 'surface_temperature_celcius': 46, 'date': '01/01/2022', 'time': '04:48:00', 'producer': 2}\n",
      "Message published successfully. Data: {'latitude': -36.8264, 'longitude': 142.6138, 'confidence': 77, 'surface_temperature_celcius': 50, 'date': '01/01/2022', 'time': '09:36:00', 'producer': 2}\n",
      "Message published successfully. Data: {'latitude': -36.4811, 'longitude': 142.2606, 'confidence': 77, 'surface_temperature_celcius': 50, 'date': '01/01/2022', 'time': '14:24:00', 'producer': 2}\n",
      "Message published successfully. Data: {'latitude': -37.437, 'longitude': 148.104, 'confidence': 99, 'surface_temperature_celcius': 61, 'date': '01/01/2022', 'time': '19:12:00', 'producer': 2}\n",
      "Message published successfully. Data: {'latitude': -36.1256, 'longitude': 145.2444, 'confidence': 77, 'surface_temperature_celcius': 53, 'date': '02/01/2022', 'time': '00:00:00', 'producer': 2}\n",
      "Message published successfully. Data: {'latitude': -36.4794, 'longitude': 144.5752, 'confidence': 63, 'surface_temperature_celcius': 41, 'date': '02/01/2022', 'time': '04:48:00', 'producer': 2}\n",
      "Message published successfully. Data: {'latitude': -36.2913, 'longitude': 142.9408, 'confidence': 80, 'surface_temperature_celcius': 54, 'date': '02/01/2022', 'time': '09:36:00', 'producer': 2}\n",
      "Message published successfully. Data: {'latitude': -37.4583, 'longitude': 148.2459, 'confidence': 81, 'surface_temperature_celcius': 39, 'date': '02/01/2022', 'time': '14:24:00', 'producer': 2}\n",
      "Message published successfully. Data: {'latitude': -37.9742, 'longitude': 141.1855, 'confidence': 78, 'surface_temperature_celcius': 51, 'date': '02/01/2022', 'time': '19:12:00', 'producer': 2}\n",
      "Message published successfully. Data: {'latitude': -36.4371, 'longitude': 141.7692, 'confidence': 74, 'surface_temperature_celcius': 48, 'date': '03/01/2022', 'time': '00:00:00', 'producer': 2}\n",
      "Message published successfully. Data: {'latitude': -37.3704, 'longitude': 145.8942, 'confidence': 96, 'surface_temperature_celcius': 78, 'date': '03/01/2022', 'time': '04:48:00', 'producer': 2}\n",
      "Message published successfully. Data: {'latitude': -37.7236, 'longitude': 142.947, 'confidence': 94, 'surface_temperature_celcius': 73, 'date': '03/01/2022', 'time': '09:36:00', 'producer': 2}\n",
      "Message published successfully. Data: {'latitude': -37.477, 'longitude': 143.352, 'confidence': 100, 'surface_temperature_celcius': 93, 'date': '03/01/2022', 'time': '14:24:00', 'producer': 2}\n",
      "Message published successfully. Data: {'latitude': -36.8079, 'longitude': 145.1409, 'confidence': 63, 'surface_temperature_celcius': 42, 'date': '03/01/2022', 'time': '19:12:00', 'producer': 2}\n",
      "Message published successfully. Data: {'latitude': -37.805, 'longitude': 144.15, 'confidence': 82, 'surface_temperature_celcius': 55, 'date': '04/01/2022', 'time': '00:00:00', 'producer': 2}\n",
      "Message published successfully. Data: {'latitude': -37.453, 'longitude': 148.118, 'confidence': 71, 'surface_temperature_celcius': 34, 'date': '04/01/2022', 'time': '04:48:00', 'producer': 2}\n",
      "Message published successfully. Data: {'latitude': -34.2636, 'longitude': 141.6328, 'confidence': 81, 'surface_temperature_celcius': 54, 'date': '04/01/2022', 'time': '09:36:00', 'producer': 2}\n",
      "Message published successfully. Data: {'latitude': -37.8343, 'longitude': 143.6581, 'confidence': 72, 'surface_temperature_celcius': 46, 'date': '04/01/2022', 'time': '14:24:00', 'producer': 2}\n",
      "Message published successfully. Data: {'latitude': -36.8846, 'longitude': 145.1679, 'confidence': 79, 'surface_temperature_celcius': 52, 'date': '04/01/2022', 'time': '19:12:00', 'producer': 2}\n",
      "Message published successfully. Data: {'latitude': -36.6605, 'longitude': 141.2603, 'confidence': 81, 'surface_temperature_celcius': 55, 'date': '05/01/2022', 'time': '00:00:00', 'producer': 2}\n",
      "Message published successfully. Data: {'latitude': -37.8046, 'longitude': 146.0304, 'confidence': 91, 'surface_temperature_celcius': 43, 'date': '05/01/2022', 'time': '04:48:00', 'producer': 2}\n",
      "Message published successfully. Data: {'latitude': -36.1156, 'longitude': 141.6664, 'confidence': 100, 'surface_temperature_celcius': 62, 'date': '05/01/2022', 'time': '09:36:00', 'producer': 2}\n",
      "Message published successfully. Data: {'latitude': -36.7056, 'longitude': 145.2481, 'confidence': 71, 'surface_temperature_celcius': 45, 'date': '05/01/2022', 'time': '14:24:00', 'producer': 2}\n",
      "Message published successfully. Data: {'latitude': -38.4888, 'longitude': 146.5226, 'confidence': 89, 'surface_temperature_celcius': 64, 'date': '05/01/2022', 'time': '19:12:00', 'producer': 2}\n",
      "Message published successfully. Data: {'latitude': -36.4133, 'longitude': 141.0286, 'confidence': 52, 'surface_temperature_celcius': 47, 'date': '06/01/2022', 'time': '00:00:00', 'producer': 2}\n",
      "Message published successfully. Data: {'latitude': -36.8207, 'longitude': 141.6407, 'confidence': 74, 'surface_temperature_celcius': 48, 'date': '06/01/2022', 'time': '04:48:00', 'producer': 2}\n",
      "Message published successfully. Data: {'latitude': -36.873, 'longitude': 142.568, 'confidence': 72, 'surface_temperature_celcius': 46, 'date': '06/01/2022', 'time': '09:36:00', 'producer': 2}\n",
      "Message published successfully. Data: {'latitude': -36.7314, 'longitude': 141.8698, 'confidence': 67, 'surface_temperature_celcius': 44, 'date': '06/01/2022', 'time': '14:24:00', 'producer': 2}\n",
      "Message published successfully. Data: {'latitude': -38.0326, 'longitude': 141.5413, 'confidence': 83, 'surface_temperature_celcius': 56, 'date': '06/01/2022', 'time': '19:12:00', 'producer': 2}\n",
      "Message published successfully. Data: {'latitude': -35.1857, 'longitude': 141.0604, 'confidence': 100, 'surface_temperature_celcius': 92, 'date': '07/01/2022', 'time': '00:00:00', 'producer': 2}\n",
      "Message published successfully. Data: {'latitude': -36.9285, 'longitude': 143.9622, 'confidence': 66, 'surface_temperature_celcius': 43, 'date': '07/01/2022', 'time': '04:48:00', 'producer': 2}\n",
      "Message published successfully. Data: {'latitude': -35.963, 'longitude': 141.078, 'confidence': 86, 'surface_temperature_celcius': 60, 'date': '07/01/2022', 'time': '09:36:00', 'producer': 2}\n",
      "Message published successfully. Data: {'latitude': -37.4028, 'longitude': 143.6932, 'confidence': 95, 'surface_temperature_celcius': 75, 'date': '07/01/2022', 'time': '14:24:00', 'producer': 2}\n",
      "Message published successfully. Data: {'latitude': -37.067, 'longitude': 141.379, 'confidence': 69, 'surface_temperature_celcius': 36, 'date': '07/01/2022', 'time': '19:12:00', 'producer': 2}\n",
      "Message published successfully. Data: {'latitude': -38.167, 'longitude': 143.841, 'confidence': 51, 'surface_temperature_celcius': 38, 'date': '08/01/2022', 'time': '00:00:00', 'producer': 2}\n",
      "Message published successfully. Data: {'latitude': -36.7199, 'longitude': 142.5844, 'confidence': 63, 'surface_temperature_celcius': 56, 'date': '08/01/2022', 'time': '04:48:00', 'producer': 2}\n",
      "Message published successfully. Data: {'latitude': -37.8849, 'longitude': 143.3162, 'confidence': 70, 'surface_temperature_celcius': 45, 'date': '08/01/2022', 'time': '09:36:00', 'producer': 2}\n",
      "Message published successfully. Data: {'latitude': -36.8373, 'longitude': 146.1811, 'confidence': 100, 'surface_temperature_celcius': 50, 'date': '08/01/2022', 'time': '14:24:00', 'producer': 2}\n"
     ]
    },
    {
     "name": "stdout",
     "output_type": "stream",
     "text": [
      "Message published successfully. Data: {'latitude': -36.2993, 'longitude': 143.2461, 'confidence': 76, 'surface_temperature_celcius': 50, 'date': '08/01/2022', 'time': '19:12:00', 'producer': 2}\n",
      "Message published successfully. Data: {'latitude': -35.2464, 'longitude': 141.1143, 'confidence': 98, 'surface_temperature_celcius': 45, 'date': '09/01/2022', 'time': '00:00:00', 'producer': 2}\n",
      "Message published successfully. Data: {'latitude': -36.2929, 'longitude': 144.1411, 'confidence': 71, 'surface_temperature_celcius': 46, 'date': '09/01/2022', 'time': '04:48:00', 'producer': 2}\n",
      "Message published successfully. Data: {'latitude': -37.394, 'longitude': 143.5541, 'confidence': 83, 'surface_temperature_celcius': 64, 'date': '09/01/2022', 'time': '09:36:00', 'producer': 2}\n",
      "Message published successfully. Data: {'latitude': -38.0132, 'longitude': 143.2528, 'confidence': 68, 'surface_temperature_celcius': 44, 'date': '09/01/2022', 'time': '14:24:00', 'producer': 2}\n",
      "Message published successfully. Data: {'latitude': -35.1476, 'longitude': 141.819, 'confidence': 86, 'surface_temperature_celcius': 60, 'date': '09/01/2022', 'time': '19:12:00', 'producer': 2}\n",
      "Message published successfully. Data: {'latitude': -37.4885, 'longitude': 142.0658, 'confidence': 97, 'surface_temperature_celcius': 81, 'date': '10/01/2022', 'time': '00:00:00', 'producer': 2}\n",
      "Message published successfully. Data: {'latitude': -36.3178, 'longitude': 145.9308, 'confidence': 86, 'surface_temperature_celcius': 60, 'date': '10/01/2022', 'time': '04:48:00', 'producer': 2}\n",
      "Message published successfully. Data: {'latitude': -36.5824, 'longitude': 142.2004, 'confidence': 74, 'surface_temperature_celcius': 48, 'date': '10/01/2022', 'time': '09:36:00', 'producer': 2}\n",
      "Message published successfully. Data: {'latitude': -36.5911, 'longitude': 144.4764, 'confidence': 72, 'surface_temperature_celcius': 46, 'date': '10/01/2022', 'time': '14:24:00', 'producer': 2}\n",
      "Message published successfully. Data: {'latitude': -38.1106, 'longitude': 143.7314, 'confidence': 80, 'surface_temperature_celcius': 53, 'date': '10/01/2022', 'time': '19:12:00', 'producer': 2}\n",
      "Message published successfully. Data: {'latitude': -35.7626, 'longitude': 142.1167, 'confidence': 87, 'surface_temperature_celcius': 62, 'date': '11/01/2022', 'time': '00:00:00', 'producer': 2}\n",
      "Message published successfully. Data: {'latitude': -36.5378, 'longitude': 144.7969, 'confidence': 82, 'surface_temperature_celcius': 55, 'date': '11/01/2022', 'time': '04:48:00', 'producer': 2}\n",
      "Message published successfully. Data: {'latitude': -37.0719, 'longitude': 145.3572, 'confidence': 76, 'surface_temperature_celcius': 49, 'date': '11/01/2022', 'time': '09:36:00', 'producer': 2}\n",
      "Message published successfully. Data: {'latitude': -37.7177, 'longitude': 143.2919, 'confidence': 61, 'surface_temperature_celcius': 41, 'date': '11/01/2022', 'time': '14:24:00', 'producer': 2}\n",
      "Message published successfully. Data: {'latitude': -36.2206, 'longitude': 144.6856, 'confidence': 97, 'surface_temperature_celcius': 80, 'date': '11/01/2022', 'time': '19:12:00', 'producer': 2}\n",
      "Message published successfully. Data: {'latitude': -36.758, 'longitude': 145.19, 'confidence': 62, 'surface_temperature_celcius': 51, 'date': '12/01/2022', 'time': '00:00:00', 'producer': 2}\n",
      "Message published successfully. Data: {'latitude': -36.939, 'longitude': 143.28, 'confidence': 100, 'surface_temperature_celcius': 59, 'date': '12/01/2022', 'time': '04:48:00', 'producer': 2}\n",
      "Message published successfully. Data: {'latitude': -36.1144, 'longitude': 142.9724, 'confidence': 63, 'surface_temperature_celcius': 41, 'date': '12/01/2022', 'time': '09:36:00', 'producer': 2}\n",
      "Message published successfully. Data: {'latitude': -36.3019, 'longitude': 146.4343, 'confidence': 67, 'surface_temperature_celcius': 43, 'date': '12/01/2022', 'time': '14:24:00', 'producer': 2}\n",
      "Message published successfully. Data: {'latitude': -37.7836, 'longitude': 142.9437, 'confidence': 69, 'surface_temperature_celcius': 44, 'date': '12/01/2022', 'time': '19:12:00', 'producer': 2}\n",
      "Message published successfully. Data: {'latitude': -36.9664, 'longitude': 143.4752, 'confidence': 82, 'surface_temperature_celcius': 55, 'date': '13/01/2022', 'time': '00:00:00', 'producer': 2}\n",
      "Message published successfully. Data: {'latitude': -38.1693, 'longitude': 143.0466, 'confidence': 93, 'surface_temperature_celcius': 73, 'date': '13/01/2022', 'time': '04:48:00', 'producer': 2}\n",
      "Message published successfully. Data: {'latitude': -36.3011, 'longitude': 145.9395, 'confidence': 76, 'surface_temperature_celcius': 50, 'date': '13/01/2022', 'time': '09:36:00', 'producer': 2}\n",
      "Message published successfully. Data: {'latitude': -36.7194, 'longitude': 143.5593, 'confidence': 50, 'surface_temperature_celcius': 38, 'date': '13/01/2022', 'time': '14:24:00', 'producer': 2}\n",
      "Message published successfully. Data: {'latitude': -37.9201, 'longitude': 143.2715, 'confidence': 72, 'surface_temperature_celcius': 46, 'date': '13/01/2022', 'time': '19:12:00', 'producer': 2}\n",
      "Message published successfully. Data: {'latitude': -37.9742, 'longitude': 141.1855, 'confidence': 78, 'surface_temperature_celcius': 51, 'date': '14/01/2022', 'time': '00:00:00', 'producer': 2}\n",
      "Message published successfully. Data: {'latitude': -37.333, 'longitude': 143.534, 'confidence': 88, 'surface_temperature_celcius': 58, 'date': '14/01/2022', 'time': '04:48:00', 'producer': 2}\n",
      "Message published successfully. Data: {'latitude': -37.0745, 'longitude': 141.0692, 'confidence': 100, 'surface_temperature_celcius': 120, 'date': '14/01/2022', 'time': '09:36:00', 'producer': 2}\n",
      "Message published successfully. Data: {'latitude': -37.8429, 'longitude': 143.8366, 'confidence': 100, 'surface_temperature_celcius': 88, 'date': '14/01/2022', 'time': '14:24:00', 'producer': 2}\n",
      "Message published successfully. Data: {'latitude': -36.7218, 'longitude': 141.6411, 'confidence': 89, 'surface_temperature_celcius': 65, 'date': '14/01/2022', 'time': '19:12:00', 'producer': 2}\n",
      "Message published successfully. Data: {'latitude': -36.4439, 'longitude': 145.8846, 'confidence': 56, 'surface_temperature_celcius': 39, 'date': '15/01/2022', 'time': '00:00:00', 'producer': 2}\n",
      "Message published successfully. Data: {'latitude': -36.0459, 'longitude': 143.8907, 'confidence': 74, 'surface_temperature_celcius': 48, 'date': '15/01/2022', 'time': '04:48:00', 'producer': 2}\n",
      "Message published successfully. Data: {'latitude': -36.4573, 'longitude': 142.2323, 'confidence': 88, 'surface_temperature_celcius': 63, 'date': '15/01/2022', 'time': '09:36:00', 'producer': 2}\n",
      "Message published successfully. Data: {'latitude': -36.9363, 'longitude': 143.0852, 'confidence': 94, 'surface_temperature_celcius': 103, 'date': '15/01/2022', 'time': '14:24:00', 'producer': 2}\n",
      "Message published successfully. Data: {'latitude': -36.5987, 'longitude': 144.4995, 'confidence': 96, 'surface_temperature_celcius': 79, 'date': '15/01/2022', 'time': '19:12:00', 'producer': 2}\n",
      "Message published successfully. Data: {'latitude': -36.7889, 'longitude': 146.6495, 'confidence': 59, 'surface_temperature_celcius': 49, 'date': '16/01/2022', 'time': '00:00:00', 'producer': 2}\n",
      "Message published successfully. Data: {'latitude': -36.2257, 'longitude': 144.2904, 'confidence': 72, 'surface_temperature_celcius': 46, 'date': '16/01/2022', 'time': '04:48:00', 'producer': 2}\n",
      "Message published successfully. Data: {'latitude': -36.5125, 'longitude': 144.4496, 'confidence': 87, 'surface_temperature_celcius': 62, 'date': '16/01/2022', 'time': '09:36:00', 'producer': 2}\n",
      "Message published successfully. Data: {'latitude': -36.7128, 'longitude': 141.3986, 'confidence': 86, 'surface_temperature_celcius': 60, 'date': '16/01/2022', 'time': '14:24:00', 'producer': 2}\n",
      "Message published successfully. Data: {'latitude': -37.4784, 'longitude': 143.015, 'confidence': 62, 'surface_temperature_celcius': 47, 'date': '16/01/2022', 'time': '19:12:00', 'producer': 2}\n",
      "Message published successfully. Data: {'latitude': -37.0684, 'longitude': 141.0437, 'confidence': 71, 'surface_temperature_celcius': 45, 'date': '17/01/2022', 'time': '00:00:00', 'producer': 2}\n",
      "Message published successfully. Data: {'latitude': -36.3119, 'longitude': 146.4371, 'confidence': 69, 'surface_temperature_celcius': 44, 'date': '17/01/2022', 'time': '04:48:00', 'producer': 2}\n"
     ]
    },
    {
     "name": "stdout",
     "output_type": "stream",
     "text": [
      "Message published successfully. Data: {'latitude': -35.7609, 'longitude': 143.8442, 'confidence': 82, 'surface_temperature_celcius': 55, 'date': '17/01/2022', 'time': '09:36:00', 'producer': 2}\n",
      "Message published successfully. Data: {'latitude': -36.0047, 'longitude': 146.4774, 'confidence': 64, 'surface_temperature_celcius': 42, 'date': '17/01/2022', 'time': '14:24:00', 'producer': 2}\n",
      "Message published successfully. Data: {'latitude': -35.364, 'longitude': 141.063, 'confidence': 72, 'surface_temperature_celcius': 54, 'date': '17/01/2022', 'time': '19:12:00', 'producer': 2}\n",
      "Message published successfully. Data: {'latitude': -35.2378, 'longitude': 142.9864, 'confidence': 100, 'surface_temperature_celcius': 94, 'date': '18/01/2022', 'time': '00:00:00', 'producer': 2}\n",
      "Message published successfully. Data: {'latitude': -36.3313, 'longitude': 147.6089, 'confidence': 74, 'surface_temperature_celcius': 52, 'date': '18/01/2022', 'time': '04:48:00', 'producer': 2}\n",
      "Message published successfully. Data: {'latitude': -37.5027, 'longitude': 146.347, 'confidence': 100, 'surface_temperature_celcius': 95, 'date': '18/01/2022', 'time': '09:36:00', 'producer': 2}\n",
      "Message published successfully. Data: {'latitude': -37.288, 'longitude': 144.39, 'confidence': 62, 'surface_temperature_celcius': 36, 'date': '18/01/2022', 'time': '14:24:00', 'producer': 2}\n",
      "Message published successfully. Data: {'latitude': -36.4074, 'longitude': 145.9085, 'confidence': 74, 'surface_temperature_celcius': 48, 'date': '18/01/2022', 'time': '19:12:00', 'producer': 2}\n",
      "Message published successfully. Data: {'latitude': -36.779, 'longitude': 146.108, 'confidence': 61, 'surface_temperature_celcius': 32, 'date': '19/01/2022', 'time': '00:00:00', 'producer': 2}\n",
      "Message published successfully. Data: {'latitude': -35.0706, 'longitude': 141.4435, 'confidence': 95, 'surface_temperature_celcius': 75, 'date': '19/01/2022', 'time': '04:48:00', 'producer': 2}\n",
      "Message published successfully. Data: {'latitude': -36.6288, 'longitude': 144.8682, 'confidence': 72, 'surface_temperature_celcius': 47, 'date': '19/01/2022', 'time': '09:36:00', 'producer': 2}\n",
      "Message published successfully. Data: {'latitude': -36.5061, 'longitude': 144.5675, 'confidence': 91, 'surface_temperature_celcius': 68, 'date': '19/01/2022', 'time': '14:24:00', 'producer': 2}\n",
      "Message published successfully. Data: {'latitude': -36.3636, 'longitude': 144.4821, 'confidence': 81, 'surface_temperature_celcius': 55, 'date': '19/01/2022', 'time': '19:12:00', 'producer': 2}\n",
      "Message published successfully. Data: {'latitude': -35.7058, 'longitude': 143.1971, 'confidence': 76, 'surface_temperature_celcius': 38, 'date': '20/01/2022', 'time': '00:00:00', 'producer': 2}\n",
      "Message published successfully. Data: {'latitude': -36.2306, 'longitude': 143.6408, 'confidence': 93, 'surface_temperature_celcius': 72, 'date': '20/01/2022', 'time': '04:48:00', 'producer': 2}\n",
      "Message published successfully. Data: {'latitude': -36.6707, 'longitude': 143.8452, 'confidence': 78, 'surface_temperature_celcius': 51, 'date': '20/01/2022', 'time': '09:36:00', 'producer': 2}\n",
      "Message published successfully. Data: {'latitude': -36.9632, 'longitude': 141.3474, 'confidence': 81, 'surface_temperature_celcius': 54, 'date': '20/01/2022', 'time': '14:24:00', 'producer': 2}\n",
      "Message published successfully. Data: {'latitude': -36.0652, 'longitude': 146.0764, 'confidence': 98, 'surface_temperature_celcius': 82, 'date': '20/01/2022', 'time': '19:12:00', 'producer': 2}\n",
      "Message published successfully. Data: {'latitude': -37.8025, 'longitude': 145.8702, 'confidence': 76, 'surface_temperature_celcius': 49, 'date': '21/01/2022', 'time': '00:00:00', 'producer': 2}\n",
      "Message published successfully. Data: {'latitude': -38.3327, 'longitude': 143.8759, 'confidence': 77, 'surface_temperature_celcius': 50, 'date': '21/01/2022', 'time': '04:48:00', 'producer': 2}\n",
      "Message published successfully. Data: {'latitude': -37.9022, 'longitude': 143.4607, 'confidence': 57, 'surface_temperature_celcius': 57, 'date': '21/01/2022', 'time': '09:36:00', 'producer': 2}\n",
      "Message published successfully. Data: {'latitude': -38.1219, 'longitude': 143.7495, 'confidence': 70, 'surface_temperature_celcius': 51, 'date': '21/01/2022', 'time': '14:24:00', 'producer': 2}\n",
      "Message published successfully. Data: {'latitude': -37.2627, 'longitude': 141.8114, 'confidence': 70, 'surface_temperature_celcius': 45, 'date': '21/01/2022', 'time': '19:12:00', 'producer': 2}\n",
      "Message published successfully. Data: {'latitude': -37.0669, 'longitude': 141.0556, 'confidence': 97, 'surface_temperature_celcius': 80, 'date': '22/01/2022', 'time': '00:00:00', 'producer': 2}\n"
     ]
    },
    {
     "ename": "KeyboardInterrupt",
     "evalue": "",
     "output_type": "error",
     "traceback": [
      "\u001b[0;31m---------------------------------------------------------------------------\u001b[0m",
      "\u001b[0;31mKeyboardInterrupt\u001b[0m                         Traceback (most recent call last)",
      "\u001b[0;32m<ipython-input-34-45c9109be637>\u001b[0m in \u001b[0;36m<module>\u001b[0;34m\u001b[0m\n\u001b[1;32m     28\u001b[0m         \u001b[0;31m# publish data every 2 seconds\u001b[0m\u001b[0;34m\u001b[0m\u001b[0;34m\u001b[0m\u001b[0;34m\u001b[0m\u001b[0m\n\u001b[1;32m     29\u001b[0m         \u001b[0mpublish_message\u001b[0m\u001b[0;34m(\u001b[0m\u001b[0mproducer\u001b[0m\u001b[0;34m,\u001b[0m \u001b[0mtopic\u001b[0m\u001b[0;34m,\u001b[0m \u001b[0;34m'hotspotAQUA'\u001b[0m\u001b[0;34m,\u001b[0m \u001b[0mdata\u001b[0m\u001b[0;34m)\u001b[0m\u001b[0;34m\u001b[0m\u001b[0;34m\u001b[0m\u001b[0m\n\u001b[0;32m---> 30\u001b[0;31m         \u001b[0msleep\u001b[0m\u001b[0;34m(\u001b[0m\u001b[0;36m2\u001b[0m\u001b[0;34m)\u001b[0m\u001b[0;34m\u001b[0m\u001b[0;34m\u001b[0m\u001b[0m\n\u001b[0m",
      "\u001b[0;31mKeyboardInterrupt\u001b[0m: "
     ]
    }
   ],
   "source": [
    "if __name__ == '__main__':\n",
    "   \n",
    "    topic = 'partB'\n",
    "    \n",
    "    # latest date from climate data in Part A Task 2. Change to datetime type\n",
    "    latestDate_str = \"2021-12-31\"\n",
    "    latestDate = dt.datetime.strptime(latestDate_str, \"%Y-%m-%d\")\n",
    "    \n",
    "    # get kafka producer instance\n",
    "    print('Publishing records..')\n",
    "    producer = connect_kafka_producer()\n",
    "    \n",
    "    while True: \n",
    "        \n",
    "        # get index of data from result_list randomly\n",
    "        index = random.randrange(0,len(result_list))\n",
    "        # get the data fron the list\n",
    "        data = result_list[index]\n",
    "        \n",
    "        # append 24/5 hours from the latest date and store date and time into the selected data\n",
    "        latestDate = latestDate + dt.timedelta(seconds=24*60*60/5)\n",
    "        data[\"date\"] = latestDate.strftime(\"%d/%m/%Y\")\n",
    "        data[\"time\"] = latestDate.strftime(\"%X\")\n",
    "        \n",
    "        # add producer information\n",
    "        data[\"producer\"] = 2\n",
    "        \n",
    "        # publish data every 2 seconds\n",
    "        publish_message(producer, topic, 'hotspotAQUA', data)\n",
    "        sleep(2)"
   ]
  },
  {
   "cell_type": "code",
   "execution_count": null,
   "id": "48c4c807",
   "metadata": {},
   "outputs": [],
   "source": []
  }
 ],
 "metadata": {
  "kernelspec": {
   "display_name": "Python 3",
   "language": "python",
   "name": "python3"
  },
  "language_info": {
   "codemirror_mode": {
    "name": "ipython",
    "version": 3
   },
   "file_extension": ".py",
   "mimetype": "text/x-python",
   "name": "python",
   "nbconvert_exporter": "python",
   "pygments_lexer": "ipython3",
   "version": "3.8.10"
  }
 },
 "nbformat": 4,
 "nbformat_minor": 5
}
